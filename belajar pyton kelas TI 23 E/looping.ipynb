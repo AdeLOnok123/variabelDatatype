{
 "cells": [
  {
   "cell_type": "code",
   "execution_count": 1,
   "id": "fe329947",
   "metadata": {},
   "outputs": [
    {
     "name": "stdout",
     "output_type": "stream",
     "text": [
      "1\n",
      "2\n",
      "3\n",
      "4\n",
      "5\n",
      "6\n",
      "7\n",
      "8\n",
      "9\n",
      "10\n"
     ]
    }
   ],
   "source": [
    "#for in range\n",
    "#print 1-10\n",
    "\n",
    "for i in range(1,11):\n",
    "    print(i)\n",
    "    "
   ]
  },
  {
   "cell_type": "code",
   "execution_count": 2,
   "id": "719741e5",
   "metadata": {},
   "outputs": [
    {
     "name": "stdout",
     "output_type": "stream",
     "text": [
      "10\n",
      "20\n",
      "30\n",
      "40\n",
      "50\n",
      "60\n",
      "70\n",
      "80\n",
      "90\n",
      "100\n"
     ]
    }
   ],
   "source": [
    "#print 10 20 30 40 50 ---100\n",
    "\n",
    "for i in range(1,11):\n",
    "    print(i*10)"
   ]
  },
  {
   "cell_type": "code",
   "execution_count": 3,
   "id": "a86c6156",
   "metadata": {},
   "outputs": [
    {
     "name": "stdout",
     "output_type": "stream",
     "text": [
      "10\n",
      "20\n",
      "30\n",
      "40\n",
      "50\n",
      "60\n",
      "70\n",
      "80\n",
      "90\n",
      "100\n"
     ]
    }
   ],
   "source": [
    "for i in range(10,110,10):\n",
    "    print(i)"
   ]
  },
  {
   "cell_type": "code",
   "execution_count": 4,
   "id": "ee3537d8",
   "metadata": {},
   "outputs": [
    {
     "name": "stdout",
     "output_type": "stream",
     "text": [
      "10\n",
      "9\n",
      "8\n",
      "7\n",
      "6\n",
      "5\n",
      "4\n",
      "3\n",
      "2\n",
      "1\n"
     ]
    }
   ],
   "source": [
    "# 10 9 8 7 6 ---1\n",
    "\n",
    "for i in range(10,0,-1):\n",
    "    print(i)"
   ]
  },
  {
   "cell_type": "code",
   "execution_count": 5,
   "id": "ae5ac07d",
   "metadata": {},
   "outputs": [
    {
     "name": "stdout",
     "output_type": "stream",
     "text": [
      "1\n",
      "-2\n",
      "3\n",
      "-4\n",
      "5\n",
      "-6\n",
      "7\n",
      "-8\n",
      "9\n",
      "-10\n"
     ]
    }
   ],
   "source": [
    "# 1 -2 3 -4 5 -6 7 -8 9 -10\n",
    "sign =1\n",
    "for i in range (1,11):\n",
    "    print(i *sign)\n",
    "    sign *=-1\n",
    "    \n",
    "    "
   ]
  },
  {
   "cell_type": "code",
   "execution_count": 6,
   "id": "f6b55aa9",
   "metadata": {},
   "outputs": [
    {
     "name": "stdout",
     "output_type": "stream",
     "text": [
      "isikan bilangan:4\n",
      "faktorial dari 4 ! adalah 24\n"
     ]
    }
   ],
   "source": [
    "# faktorial => input 4! = 4 * 3 * 2 * 1 = 24\n",
    "\n",
    "number = int(input (\"isikan bilangan:\"))\n",
    "\n",
    "result = 1\n",
    "for i in range(1, number+1):\n",
    "    result = result * i\n",
    "    \n",
    "print(f\"faktorial dari {number} ! adalah {result}\")\n",
    "    "
   ]
  },
  {
   "cell_type": "code",
   "execution_count": 7,
   "id": "a8aad08b",
   "metadata": {},
   "outputs": [
    {
     "name": "stdout",
     "output_type": "stream",
     "text": [
      "isikan bilangan2\n",
      "isikan pangkat3\n",
      "pangkat dari 2 adalah 8\n"
     ]
    }
   ],
   "source": [
    "number = int(input('isikan bilangan'))\n",
    "pangkat = int(input('isikan pangkat'))\n",
    "result = 1\n",
    "for i in range(1, pangkat +1):\n",
    "    result = number ** pangkat\n",
    "    \n",
    "print(f\"pangkat dari {number} adalah {result}\")"
   ]
  },
  {
   "cell_type": "code",
   "execution_count": 3,
   "id": "d5ce24ce",
   "metadata": {},
   "outputs": [
    {
     "name": "stdout",
     "output_type": "stream",
     "text": [
      "isikan bilangan:9\n",
      "9 adalah bukan bilangan prima\n"
     ]
    }
   ],
   "source": [
    "#cek bilangan prima\n",
    "\n",
    "#bil,prima adalah bilangan yang hanya habis dibagi dengan bil itu\n",
    "#sendiri dan 1\n",
    "\n",
    "#bil.prima punya 2 faktor\n",
    "\n",
    "number = int(input('isikan bilangan:'))\n",
    "\n",
    "faktor =0\n",
    "for i in range (1,number+1):\n",
    "    sisa = number %i\n",
    "    if number % i ==0:\n",
    "        faktor = faktor +1\n",
    "\n",
    "if faktor ==2 :\n",
    "    print(f\"{number} adalah bilangan prima\")\n",
    "else:\n",
    "    print(f\"{number} adalah bukan bilangan prima\")"
   ]
  },
  {
   "cell_type": "code",
   "execution_count": 16,
   "id": "0faaad3a",
   "metadata": {},
   "outputs": [
    {
     "name": "stdout",
     "output_type": "stream",
     "text": [
      "jumlah huruf a:3\n",
      "jumlah huruf i:2\n",
      "jumlah huruf vokal:5\n"
     ]
    }
   ],
   "source": [
    "#menghitung jumlah huruf vokal a i u e o\n",
    "\n",
    "kampus =\"Universitas nusa putra\" #panjang 22\n",
    "panjang =len(kampus)\n",
    "\n",
    "vokal_a =0\n",
    "vokal_i =0\n",
    "vokal_u =0\n",
    "vokal_e =0\n",
    "vokal_o =0\n",
    "\n",
    "\n",
    "for i in range(0, panjang):\n",
    "    if kampus [i]=='a':\n",
    "        vokal_a +=1\n",
    "    elif kampus[i]=='i':\n",
    "        vokal_i +=1\n",
    "    elif kampus[i]=='u' or kampus[i] == 'U':\n",
    "        vokal_u +=1\n",
    "    elif kampus[i]=='e':\n",
    "        vokal_e +=1\n",
    "    elif kampus[i]=='o':\n",
    "        vokal_o +=1\n",
    "        \n",
    "        \n",
    "print(f\"jumlah huruf a:{vokal_a}\")\n",
    "print(f\"jumlah huruf i:{vokal_i}\")\n",
    "print(f\"jumlah huruf vokal:{vokal_a + vokal_i}\")\n",
    "   "
   ]
  },
  {
   "cell_type": "code",
   "execution_count": 28,
   "id": "6e8bac17",
   "metadata": {},
   "outputs": [
    {
     "name": "stdout",
     "output_type": "stream",
     "text": [
      "isikan kalimat:aku\n",
      "isikan kalimat:uka\n"
     ]
    },
    {
     "ename": "NameError",
     "evalue": "name 'kebalikan' is not defined",
     "output_type": "error",
     "traceback": [
      "\u001b[1;31m---------------------------------------------------------------------------\u001b[0m",
      "\u001b[1;31mNameError\u001b[0m                                 Traceback (most recent call last)",
      "Input \u001b[1;32mIn [28]\u001b[0m, in \u001b[0;36m<cell line: 8>\u001b[1;34m()\u001b[0m\n\u001b[0;32m     15\u001b[0m \u001b[38;5;28;01mfor\u001b[39;00m i \u001b[38;5;129;01min\u001b[39;00m \u001b[38;5;28mrange\u001b[39m (\u001b[38;5;241m0\u001b[39m,panjang_kalimat):\n\u001b[0;32m     16\u001b[0m     urut \u001b[38;5;241m=\u001b[39m kalimat[panjang_kalimat \u001b[38;5;241m-\u001b[39m i\u001b[38;5;241m-\u001b[39m\u001b[38;5;241m1\u001b[39m]\n\u001b[1;32m---> 18\u001b[0m \u001b[38;5;28;01mif\u001b[39;00m urut \u001b[38;5;241m!=\u001b[39m \u001b[43mkebalikan\u001b[49m:\n\u001b[0;32m     19\u001b[0m     isPalindrome \u001b[38;5;241m=\u001b[39m \u001b[38;5;28;01mFalse\u001b[39;00m\n\u001b[0;32m     20\u001b[0m     \u001b[38;5;28;01mbreak\u001b[39;00m\n",
      "\u001b[1;31mNameError\u001b[0m: name 'kebalikan' is not defined"
     ]
    }
   ],
   "source": [
    "kalimat =input(\"isikan kalimat:\")\n",
    "panjang_kalimat =len(kalimat)\n",
    "\n",
    "# mengecek kalimat palindrome atau bukan\n",
    "# kanan > kiri itu sama\n",
    "# kasur rusak => palindrom\n",
    "ulang = \"Y\"\n",
    "while(ulang==\"Y\"):\n",
    "    \n",
    "    kalimat =input(\"isikan kalimat:\")\n",
    "    panjang_kalimat =len(kalimat)\n",
    "\n",
    "     \n",
    "    isPalindrome =  True\n",
    "    for i in range (0,panjang_kalimat):\n",
    "        urut = kalimat[panjang_kalimat - i-1]\n",
    "        \n",
    "    if urut != kebalikan:\n",
    "        isPalindrome = False\n",
    "        break\n",
    "        \n",
    "    if isPalindrome==True:\n",
    "        print(f\"{kalimat} adalah palindrome\")\n",
    "    else:\n",
    "        print(f\"{kalimat} adalah bukan palindrome\")\n",
    "             \n",
    "    ulang = input('apakah mau mengulang program?: Y/T')\n",
    "        "
   ]
  },
  {
   "cell_type": "code",
   "execution_count": 5,
   "id": "820dabb8",
   "metadata": {},
   "outputs": [
    {
     "name": "stdout",
     "output_type": "stream",
     "text": [
      "22\n",
      "0 U\n",
      "1 n\n",
      "2 i\n",
      "3 v\n",
      "4 e\n",
      "5 r\n",
      "6 s\n",
      "7 i\n",
      "8 t\n",
      "9 a\n",
      "10 s\n",
      "11  \n",
      "12 n\n",
      "13 u\n",
      "14 s\n",
      "15 a\n",
      "16  \n",
      "17 p\n",
      "18 u\n",
      "19 t\n",
      "20 r\n",
      "21 a\n"
     ]
    }
   ],
   "source": [
    "kampus = \"Universitas nusa putra\" \n",
    "print(len(kampus))\n",
    "\n",
    "for i,huruf in enumerate(kampus):\n",
    "   print(i,huruf)"
   ]
  },
  {
   "cell_type": "code",
   "execution_count": 29,
   "id": "7df752a9",
   "metadata": {},
   "outputs": [
    {
     "name": "stdout",
     "output_type": "stream",
     "text": [
      "i: 1 dan j : 1\n",
      "i: 1 dan j : 2\n",
      "i: 1 dan j : 3\n",
      "i: 1 dan j : 4\n",
      "i: 2 dan j : 1\n",
      "i: 2 dan j : 2\n",
      "i: 2 dan j : 3\n",
      "i: 2 dan j : 4\n",
      "i: 3 dan j : 1\n",
      "i: 3 dan j : 2\n",
      "i: 3 dan j : 3\n",
      "i: 3 dan j : 4\n",
      "i: 4 dan j : 1\n",
      "i: 4 dan j : 2\n",
      "i: 4 dan j : 3\n",
      "i: 4 dan j : 4\n"
     ]
    }
   ],
   "source": [
    "#nested for\n",
    "\n",
    "for i in range(1,5):\n",
    "    for j in range(1,5):\n",
    "        print(f\"i: {i} dan j : {j}\")"
   ]
  },
  {
   "cell_type": "code",
   "execution_count": null,
   "id": "c0458efb",
   "metadata": {},
   "outputs": [],
   "source": []
  }
 ],
 "metadata": {
  "kernelspec": {
   "display_name": "Python 3 (ipykernel)",
   "language": "python",
   "name": "python3"
  },
  "language_info": {
   "codemirror_mode": {
    "name": "ipython",
    "version": 3
   },
   "file_extension": ".py",
   "mimetype": "text/x-python",
   "name": "python",
   "nbconvert_exporter": "python",
   "pygments_lexer": "ipython3",
   "version": "3.9.12"
  }
 },
 "nbformat": 4,
 "nbformat_minor": 5
}
