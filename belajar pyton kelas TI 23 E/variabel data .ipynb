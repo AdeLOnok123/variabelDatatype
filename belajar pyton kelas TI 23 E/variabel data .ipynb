{
 "cells": [
  {
   "cell_type": "markdown",
   "id": "aa7f4485",
   "metadata": {},
   "source": [
    "<h1>belajar variabel dan tipe data</h1><hr>\n",
    "tipe data di pyton yaitu <b>integer,float,boolean,string,complex\n",
    "  \n",
    " \n",
    "    "
   ]
  },
  {
   "cell_type": "code",
   "execution_count": 3,
   "id": "4503c33a",
   "metadata": {},
   "outputs": [
    {
     "name": "stdout",
     "output_type": "stream",
     "text": [
      "100\n",
      "<class 'int'>\n"
     ]
    }
   ],
   "source": [
    "data_integer =100\n",
    "data_integer\n",
    "print(data_integer)\n",
    "print(type(data_integer))"
   ]
  },
  {
   "cell_type": "code",
   "execution_count": 5,
   "id": "d168a5df",
   "metadata": {},
   "outputs": [
    {
     "name": "stdout",
     "output_type": "stream",
     "text": [
      "10.5\n",
      "<class 'float'>\n"
     ]
    }
   ],
   "source": [
    "data_float =10.5\n",
    "print(data_float)\n",
    "print(type(data_float))"
   ]
  },
  {
   "cell_type": "code",
   "execution_count": 21,
   "id": "1b6da972",
   "metadata": {},
   "outputs": [
    {
     "name": "stdout",
     "output_type": "stream",
     "text": [
      "True\n",
      "<class 'bool'>\n"
     ]
    }
   ],
   "source": [
    "data_boolean = True\n",
    "print(data_boolean)\n",
    "print(type(data_boolean))"
   ]
  },
  {
   "cell_type": "code",
   "execution_count": 26,
   "id": "c29a7b61",
   "metadata": {},
   "outputs": [
    {
     "name": "stdout",
     "output_type": "stream",
     "text": [
      "100\n",
      "<class 'str'>\n"
     ]
    }
   ],
   "source": [
    "data_string =\"100\"\n",
    "print(data_string)\n",
    "print(type(data_string))"
   ]
  },
  {
   "cell_type": "code",
   "execution_count": 15,
   "id": "f3115a37",
   "metadata": {},
   "outputs": [
    {
     "name": "stdout",
     "output_type": "stream",
     "text": [
      "(5+6j)\n",
      "<class 'complex'>\n"
     ]
    }
   ],
   "source": [
    "data_complex =complex(5,6)\n",
    "print(data_complex)\n",
    "print(type(data_complex))"
   ]
  },
  {
   "cell_type": "markdown",
   "id": "0a4eda2f",
   "metadata": {},
   "source": [
    "<h2>casting</h2><hr>\n",
    "<font color=\"blue\">casting</font>adalah teknik memancing ikan <br>\n",
    "</o1>\n",
    "    <li>sintak casting menggunakan (tipe data)</li>\n",
    "    <li>casting dapat di lakukan di sungai</li>\n",
    "</ol>"
   ]
  },
  {
   "cell_type": "code",
   "execution_count": 18,
   "id": "c61b12a6",
   "metadata": {},
   "outputs": [
    {
     "name": "stdout",
     "output_type": "stream",
     "text": [
      "100\n",
      "100.0\n",
      "<class 'str'>\n",
      "<class 'float'>\n"
     ]
    }
   ],
   "source": [
    "int_to_string =str(data_integer)\n",
    "int_to_float =float(data_integer)\n",
    "\n",
    "print(int_to_string)\n",
    "print(int_to_float)\n",
    "\n",
    "print(type(int_to_string))\n",
    "print(type(int_to_float))"
   ]
  },
  {
   "cell_type": "code",
   "execution_count": 23,
   "id": "4e72169e",
   "metadata": {},
   "outputs": [
    {
     "name": "stdout",
     "output_type": "stream",
     "text": [
      "100\n",
      "100.0\n",
      "True\n",
      "<class 'str'>\n",
      "<class 'float'>\n",
      "<class 'bool'>\n"
     ]
    }
   ],
   "source": [
    "int_to_string =str(data_integer)\n",
    "int_to_float =float(data_integer)\n",
    "int_to_boolean =bool(data_integer)\n",
    "\n",
    "print(int_to_string)\n",
    "print(int_to_float)\n",
    "print(int_to_boolean)\n",
    "\n",
    "print(type(int_to_string))\n",
    "print(type(int_to_float))\n",
    "print(type(int_to_boolean))\n",
    "     "
   ]
  },
  {
   "cell_type": "code",
   "execution_count": 28,
   "id": "87673083",
   "metadata": {},
   "outputs": [
    {
     "name": "stdout",
     "output_type": "stream",
     "text": [
      "100\n",
      "100.0\n",
      "True\n"
     ]
    }
   ],
   "source": [
    "string_to_int =int(data_string)\n",
    "string_to_float =float(data_string)\n",
    "string_to_bool =bool(data_string)\n",
    "\n",
    "print(string_to_int)\n",
    "print(string_to_float)\n",
    "print(string_to_bool)"
   ]
  },
  {
   "cell_type": "code",
   "execution_count": null,
   "id": "2a3b78dd",
   "metadata": {},
   "outputs": [],
   "source": []
  }
 ],
 "metadata": {
  "kernelspec": {
   "display_name": "Python 3 (ipykernel)",
   "language": "python",
   "name": "python3"
  },
  "language_info": {
   "codemirror_mode": {
    "name": "ipython",
    "version": 3
   },
   "file_extension": ".py",
   "mimetype": "text/x-python",
   "name": "python",
   "nbconvert_exporter": "python",
   "pygments_lexer": "ipython3",
   "version": "3.9.12"
  }
 },
 "nbformat": 4,
 "nbformat_minor": 5
}
